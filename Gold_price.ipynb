{
 "cells": [
  {
   "cell_type": "code",
   "execution_count": 67,
   "metadata": {},
   "outputs": [],
   "source": [
    "# !pip install pandas\n",
    "# !pip install scikit-learn \n",
    "# !pip install matplotlib"
   ]
  },
  {
   "cell_type": "code",
   "execution_count": 68,
   "metadata": {},
   "outputs": [
    {
     "data": {
      "text/html": [
       "<div>\n",
       "<style scoped>\n",
       "    .dataframe tbody tr th:only-of-type {\n",
       "        vertical-align: middle;\n",
       "    }\n",
       "\n",
       "    .dataframe tbody tr th {\n",
       "        vertical-align: top;\n",
       "    }\n",
       "\n",
       "    .dataframe thead th {\n",
       "        text-align: right;\n",
       "    }\n",
       "</style>\n",
       "<table border=\"1\" class=\"dataframe\">\n",
       "  <thead>\n",
       "    <tr style=\"text-align: right;\">\n",
       "      <th></th>\n",
       "      <th>Date</th>\n",
       "      <th>Indonesian rupiah (IDR)</th>\n",
       "    </tr>\n",
       "  </thead>\n",
       "  <tbody>\n",
       "    <tr>\n",
       "      <th>0</th>\n",
       "      <td>1979-01-31</td>\n",
       "      <td>139739.28</td>\n",
       "    </tr>\n",
       "    <tr>\n",
       "      <th>1</th>\n",
       "      <td>1979-02-28</td>\n",
       "      <td>154683.13</td>\n",
       "    </tr>\n",
       "    <tr>\n",
       "      <th>2</th>\n",
       "      <td>1979-03-30</td>\n",
       "      <td>148844.15</td>\n",
       "    </tr>\n",
       "    <tr>\n",
       "      <th>3</th>\n",
       "      <td>1979-04-30</td>\n",
       "      <td>152453.63</td>\n",
       "    </tr>\n",
       "    <tr>\n",
       "      <th>4</th>\n",
       "      <td>1979-05-31</td>\n",
       "      <td>171656.12</td>\n",
       "    </tr>\n",
       "    <tr>\n",
       "      <th>...</th>\n",
       "      <td>...</td>\n",
       "      <td>...</td>\n",
       "    </tr>\n",
       "    <tr>\n",
       "      <th>513</th>\n",
       "      <td>2021-10-29</td>\n",
       "      <td>25064431.24</td>\n",
       "    </tr>\n",
       "    <tr>\n",
       "      <th>514</th>\n",
       "      <td>2021-11-30</td>\n",
       "      <td>25843517.60</td>\n",
       "    </tr>\n",
       "    <tr>\n",
       "      <th>515</th>\n",
       "      <td>2021-12-31</td>\n",
       "      <td>25737878.52</td>\n",
       "    </tr>\n",
       "    <tr>\n",
       "      <th>516</th>\n",
       "      <td>2022-01-31</td>\n",
       "      <td>25819285.50</td>\n",
       "    </tr>\n",
       "    <tr>\n",
       "      <th>517</th>\n",
       "      <td>2022-02-28</td>\n",
       "      <td>27438816.35</td>\n",
       "    </tr>\n",
       "  </tbody>\n",
       "</table>\n",
       "<p>518 rows × 2 columns</p>\n",
       "</div>"
      ],
      "text/plain": [
       "           Date  Indonesian rupiah (IDR)\n",
       "0    1979-01-31                139739.28\n",
       "1    1979-02-28                154683.13\n",
       "2    1979-03-30                148844.15\n",
       "3    1979-04-30                152453.63\n",
       "4    1979-05-31                171656.12\n",
       "..          ...                      ...\n",
       "513  2021-10-29              25064431.24\n",
       "514  2021-11-30              25843517.60\n",
       "515  2021-12-31              25737878.52\n",
       "516  2022-01-31              25819285.50\n",
       "517  2022-02-28              27438816.35\n",
       "\n",
       "[518 rows x 2 columns]"
      ]
     },
     "execution_count": 68,
     "metadata": {},
     "output_type": "execute_result"
    }
   ],
   "source": [
    "import pandas as pd\n",
    "df = pd.read_csv('Monthly_Gold_Price_on_World.csv', usecols=['Date', 'Indonesian rupiah (IDR)'])\n",
    "df"
   ]
  },
  {
   "cell_type": "code",
   "execution_count": 69,
   "metadata": {},
   "outputs": [
    {
     "data": {
      "text/plain": [
       "0      0.793164\n",
       "1      0.895255\n",
       "2      0.902979\n",
       "3      0.877109\n",
       "4      0.880918\n",
       "         ...   \n",
       "99     1.478633\n",
       "100    1.524851\n",
       "101    1.518584\n",
       "102    1.523414\n",
       "103    1.619491\n",
       "Name: data, Length: 104, dtype: float64"
      ]
     },
     "execution_count": 69,
     "metadata": {},
     "output_type": "execute_result"
    }
   ],
   "source": [
    "import joblib\n",
    "\n",
    "data = df['Indonesian rupiah (IDR)']\n",
    "n = len(data)\n",
    "sizeTrain = (round(n*0.8))\n",
    "data_train = pd.DataFrame(data[:sizeTrain])\n",
    "data_test = pd.DataFrame(data[sizeTrain:])\n",
    "\n",
    "from sklearn.preprocessing import MinMaxScaler\n",
    "\n",
    "scaler = MinMaxScaler()\n",
    "train_scaled = scaler.fit_transform(data_train)\n",
    "\n",
    "# Mengaplikasikan MinMaxScaler pada data pengujian\n",
    "test_scaled = scaler.transform(data_test)\n",
    "joblib.dump(scaler, 'modelScaler.pkl')\n",
    "\n",
    "train = pd.DataFrame(train_scaled, columns = ['data'])\n",
    "train = train['data']\n",
    "\n",
    "test = pd.DataFrame(test_scaled, columns = ['data'])\n",
    "test = test['data']\n",
    "test"
   ]
  },
  {
   "cell_type": "code",
   "execution_count": 70,
   "metadata": {},
   "outputs": [],
   "source": [
    "import numpy as np\n",
    "from numpy import array\n",
    "\n",
    "def split_sequence(sequence, n_steps):\n",
    "  X, y = list(), list()\n",
    "  for i in range(len(sequence)):\n",
    "    # find the end of this pattern\n",
    "    end_ix = i + n_steps\n",
    "    # check if we are beyond the sequence\n",
    "    if end_ix > len(sequence)-1:\n",
    "      break\n",
    "    # gather input and output parts of the pattern\n",
    "    seq_x, seq_y = sequence[i:end_ix], sequence[end_ix]\n",
    "    X.append(seq_x)\n",
    "    y.append(seq_y)\n",
    "\n",
    "  return array(X), array(y)\n",
    "\n",
    "df_X, df_Y = split_sequence(train, 2)\n",
    "x = pd.DataFrame(df_X)\n",
    "y = pd.DataFrame(df_Y)\n",
    "dataset_train = pd.concat([x, y], axis=1)\n",
    "dataset_train\n",
    "\n",
    "X_train = dataset_train.iloc[:, :2].values\n",
    "Y_train = dataset_train.iloc[:, -1].values\n",
    "test_x, test_y = split_sequence(test, 2)\n",
    "x = pd.DataFrame(test_x)\n",
    "y = pd.DataFrame(test_y)\n",
    "dataset_test = pd.concat([x, y], axis=1)\n",
    "dataset_test.to_csv('data-test.csv', index=False)\n",
    "X_test = dataset_test.iloc[:, :2].values\n",
    "Y_test = dataset_test.iloc[:, -1].values"
   ]
  },
  {
   "cell_type": "code",
   "execution_count": 71,
   "metadata": {},
   "outputs": [
    {
     "name": "stdout",
     "output_type": "stream",
     "text": [
      "Linear =  0.02931332599692603\n",
      "Decision Tree =  0.23178444642210036\n"
     ]
    }
   ],
   "source": [
    "from sklearn.tree import DecisionTreeRegressor\n",
    "from sklearn.linear_model import LinearRegression\n",
    "from sklearn.metrics import mean_absolute_percentage_error\n",
    "\n",
    "models = []\n",
    "errors = []\n",
    "\n",
    "model = LinearRegression()\n",
    "model.fit(X_train, Y_train)\n",
    "\n",
    "y_pred=model.predict(X_test)\n",
    "error = mean_absolute_percentage_error(y_pred, Y_test)\n",
    "models.append(model)\n",
    "errors.append(error)\n",
    "print('Linear = ',error)\n",
    "\n",
    "model = DecisionTreeRegressor()\n",
    "model.fit(X_train, Y_train)\n",
    "\n",
    "y_pred=model.predict(X_test)\n",
    "error = mean_absolute_percentage_error(y_pred, Y_test)\n",
    "models.append(model)\n",
    "errors.append(error)\n",
    "\n",
    "print('Decision Tree = ',error)\n",
    "indexModel = np.argmin(errors)\n",
    "joblib.dump(models[indexModel], 'modelLR.pkl')\n",
    "lr = models[indexModel]"
   ]
  },
  {
   "cell_type": "code",
   "execution_count": 72,
   "metadata": {},
   "outputs": [
    {
     "ename": "AttributeError",
     "evalue": "'numpy.ndarray' object has no attribute 'apply'",
     "output_type": "error",
     "traceback": [
      "\u001b[1;31m---------------------------------------------------------------------------\u001b[0m",
      "\u001b[1;31mAttributeError\u001b[0m                            Traceback (most recent call last)",
      "Cell \u001b[1;32mIn[72], line 39\u001b[0m\n\u001b[0;32m     37\u001b[0m reshaped_data \u001b[39m=\u001b[39m pred\u001b[39m.\u001b[39mreshape(\u001b[39m-\u001b[39m\u001b[39m1\u001b[39m, \u001b[39m1\u001b[39m)\n\u001b[0;32m     38\u001b[0m original_data \u001b[39m=\u001b[39m scaler\u001b[39m.\u001b[39minverse_transform(reshaped_data)\n\u001b[1;32m---> 39\u001b[0m pred \u001b[39m=\u001b[39m original_data\u001b[39m.\u001b[39;49mflatten()\u001b[39m.\u001b[39;49mapply(\u001b[39mlambda\u001b[39;00m x: \u001b[39mformat\u001b[39m(x, \u001b[39m'\u001b[39m\u001b[39m.2f\u001b[39m\u001b[39m'\u001b[39m))\n\u001b[0;32m     40\u001b[0m \u001b[39m# df_pred['Indonesian rupiah (IDR)'] = df_pred['Indonesian rupiah (IDR)']\u001b[39;00m\n\u001b[0;32m     41\u001b[0m df_pred \u001b[39m=\u001b[39m pd\u001b[39m.\u001b[39mDataFrame({\u001b[39m'\u001b[39m\u001b[39mDate\u001b[39m\u001b[39m'\u001b[39m: tanggal, \u001b[39m'\u001b[39m\u001b[39mIndonesian rupiah (IDR)\u001b[39m\u001b[39m'\u001b[39m: pred })\n",
      "\u001b[1;31mAttributeError\u001b[0m: 'numpy.ndarray' object has no attribute 'apply'"
     ]
    }
   ],
   "source": [
    "def ramal(n_pred, dataset_test, tanggal):\n",
    "    tanggal = tanggal[0].split('-')\n",
    "    tahun = tanggal[0]\n",
    "    bulan = tanggal[1]\n",
    "    tahun = int(tahun)\n",
    "    bulan = int(bulan)\n",
    "    # lr = LinearRegression()\n",
    "    last = dataset_test.tail(1)\n",
    "    fitur = last.values\n",
    "    n_fit = len(fitur[0])\n",
    "    fiturs = np.zeros((n_pred, n_fit))\n",
    "    tanggals = []\n",
    "    preds = np.zeros(n_pred)\n",
    "    for i in range(n_pred):\n",
    "        if i == 0:\n",
    "            fitur = fitur[:, 1:n_fit]\n",
    "            y_pred=lr.predict(fitur)\n",
    "            new_fit = np.array(fitur[0])\n",
    "            new_fit = np.append(new_fit,y_pred)\n",
    "        else:\n",
    "            fitur = fiturs[i-1][1:n_fit]\n",
    "            y_pred=lr.predict([fitur])\n",
    "            new_fit = np.array(fitur)\n",
    "            new_fit = np.append(new_fit,y_pred)\n",
    "        preds[i] = y_pred\n",
    "        fiturs[i,:] = new_fit\n",
    "        bulan += 1\n",
    "        if bulan > 12:\n",
    "          tahun += 1\n",
    "          bulan = 1\n",
    "        tanggal = str(tahun)+\"-\"+f\"{bulan:02d}\"\n",
    "        tanggals.append(tanggal)\n",
    "    return preds, tanggals\n",
    "\n",
    "tanggal_terakhir = df['Date'].tail(1).values\n",
    "pred, tanggal = ramal(3,dataset_test, tanggal_terakhir)\n",
    "reshaped_data = pred.reshape(-1, 1)\n",
    "original_data = scaler.inverse_transform(reshaped_data)\n",
    "pred = original_data.flatten()\n",
    "# df_pred['Indonesian rupiah (IDR)'] = df_pred['Indonesian rupiah (IDR)']\n",
    "df_pred = pd.DataFrame({'Date': tanggal, 'Indonesian rupiah (IDR)': format(pred, '.2f') })\n",
    "df_pred"
   ]
  },
  {
   "cell_type": "code",
   "execution_count": null,
   "metadata": {},
   "outputs": [
    {
     "data": {
      "text/plain": [
       "0      1979-01\n",
       "1      1979-02\n",
       "2      1979-03\n",
       "3      1979-04\n",
       "4      1979-05\n",
       "        ...   \n",
       "513    2021-10\n",
       "514    2021-11\n",
       "515    2021-12\n",
       "516    2022-01\n",
       "517    2022-02\n",
       "Name: Date, Length: 518, dtype: object"
      ]
     },
     "execution_count": 59,
     "metadata": {},
     "output_type": "execute_result"
    }
   ],
   "source": [
    "from datetime import datetime\n",
    "\n",
    "def moddate(tanggal_awal):\n",
    "    if isinstance(tanggal_awal, pd.Timestamp):\n",
    "        # Convert Timestamp object to string\n",
    "        tanggal_str = tanggal_awal.strftime('%Y-%m-%d')\n",
    "\n",
    "        # Ubah string tanggal menjadi objek datetime\n",
    "        tanggal_obj = datetime.strptime(tanggal_str, '%Y-%m-%d')\n",
    "    else:\n",
    "        # Ubah string tanggal menjadi objek datetime\n",
    "        tanggal_obj = datetime.strptime(tanggal_awal, '%Y-%m-%d')\n",
    "\n",
    "\n",
    "    # Memformat tanggal menjadi 'YYYY-MM'\n",
    "    return tanggal_obj.strftime('%Y-%m')\n",
    "\n",
    "\n",
    "df['Date'] = df['Date'].apply(moddate)\n",
    "df['Date']"
   ]
  },
  {
   "cell_type": "code",
   "execution_count": null,
   "metadata": {},
   "outputs": [
    {
     "data": {
      "image/png": "[encoded data removed]",
      "text/plain": [
       "<Figure size 640x480 with 1 Axes>"
      ]
     },
     "metadata": {},
     "output_type": "display_data"
    }
   ],
   "source": [
    "import matplotlib.pyplot as plt\n",
    "import matplotlib.dates as mdates\n",
    "\n",
    "# Plot data df\n",
    "plt.plot(df['Date'], df['Indonesian rupiah (IDR)'], label='Data Awal')\n",
    "\n",
    "# Plot data df_pred\n",
    "plt.plot(df_pred['Date'], df_pred['Indonesian rupiah (IDR)'], label='Prediksi')\n",
    "\n",
    "# Menghubungkan plot terakhir data awal dengan plot awal data prediksi\n",
    "last_Date = df['Date'].iloc[-1]\n",
    "plt.plot([last_Date, df_pred['Date'].iloc[0]], [df['Indonesian rupiah (IDR)'].iloc[-1], df_pred['Indonesian rupiah (IDR)'].iloc[0]], 'k--')\n",
    "\n",
    "# Konfigurasi plot\n",
    "plt.xlabel('Tanggal')\n",
    "plt.ylabel('Indonesian Rupiah (IDR)')\n",
    "plt.title('Perbandingan Data Awal dan Prediksi')\n",
    "plt.legend()\n",
    "\n",
    "# Atur jarak pada nilai label sumbu x dan format tanggal\n",
    "plt.xticks(rotation=45, ha='right')\n",
    "plt.gca().xaxis.set_major_locator(mdates.MonthLocator())\n",
    "\n",
    "# Tampilkan plot\n",
    "plt.show()"
   ]
  }
 ],
 "metadata": {
  "kernelspec": {
   "display_name": "Python 3",
   "language": "python",
   "name": "python3"
  },
  "language_info": {
   "codemirror_mode": {
    "name": "ipython",
    "version": 3
   },
   "file_extension": ".py",
   "mimetype": "text/x-python",
   "name": "python",
   "nbconvert_exporter": "python",
   "pygments_lexer": "ipython3",
   "version": "3.10.2"
  },
  "orig_nbformat": 4
 },
 "nbformat": 4,
 "nbformat_minor": 2
}
